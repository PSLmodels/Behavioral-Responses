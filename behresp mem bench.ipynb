{
 "cells": [
  {
   "cell_type": "code",
   "execution_count": 1,
   "metadata": {},
   "outputs": [],
   "source": [
    "import taxcalc as tc\n",
    "import behresp\n",
    "\n",
    "%load_ext memory_profiler\n"
   ]
  },
  {
   "cell_type": "code",
   "execution_count": 2,
   "metadata": {},
   "outputs": [],
   "source": [
    "def test_func(inplace):\n",
    "    rec = tc.Records.cps_constructor()\n",
    "    refyear = 2020\n",
    "    assert refyear >= 2018\n",
    "    reform = {'II_em': {refyear: 1500}}\n",
    "    # ... construct pre-reform calculator\n",
    "    pol = tc.Policy()\n",
    "    calc1 = tc.Calculator(records=rec, policy=pol)\n",
    "    calc1.advance_to_year(refyear)\n",
    "    # ... construct two post-reform calculators\n",
    "    pol.implement_reform(reform)\n",
    "    calc2d = tc.Calculator(records=rec, policy=pol)  # for default behavior\n",
    "    calc2d.advance_to_year(refyear)\n",
    "\n",
    "    # Keep track of some of the variables that will be modifed\n",
    "    # in response if inplace is True.\n",
    "    df_before_1 = calc1.dataframe(tc.DIST_VARIABLES)\n",
    "    df_before_2 = calc2d.dataframe(tc.DIST_VARIABLES)\n",
    "\n",
    "    behresp.response(calc1, calc2d, elasticities={\"inc\": -0.2}, dump=True, inplace=inplace)\n",
    "\n",
    "    # Grab the same variables after.\n",
    "    df_after_1 = calc1.dataframe(tc.DIST_VARIABLES)\n",
    "    df_after_2 = calc2d.dataframe(tc.DIST_VARIABLES)\n",
    "\n",
    "    # If inplace is True, the variables should have been modified.\n",
    "    # If inplace is False, response only modified a copy of calc_1\n",
    "    # and calc_2.\n",
    "    if inplace:\n",
    "        assert not df_before_1.equals(df_after_1)\n",
    "        assert not df_before_2.equals(df_after_2)\n",
    "    else:\n",
    "        assert df_before_1.equals(df_after_1)\n",
    "        assert df_before_2.equals(df_after_2)\n"
   ]
  },
  {
   "cell_type": "code",
   "execution_count": 3,
   "metadata": {},
   "outputs": [],
   "source": [
    "# get a line by line break down of memory usage and changes\n",
    "# %mprun -f behresp.response test_func(inplace=False)"
   ]
  },
  {
   "cell_type": "code",
   "execution_count": 4,
   "metadata": {},
   "outputs": [
    {
     "name": "stdout",
     "output_type": "stream",
     "text": [
      "peak memory: 5980.18 MiB, increment: 5805.55 MiB\n"
     ]
    }
   ],
   "source": [
    "# obtain high-level stats on memory usage\n",
    "%memit test_func(inplace=True)"
   ]
  }
 ],
 "metadata": {
  "kernelspec": {
   "display_name": "Python (behresp-dev)",
   "language": "python",
   "name": "behresp-dev"
  },
  "language_info": {
   "codemirror_mode": {
    "name": "ipython",
    "version": 3
   },
   "file_extension": ".py",
   "mimetype": "text/x-python",
   "name": "python",
   "nbconvert_exporter": "python",
   "pygments_lexer": "ipython3",
   "version": "3.7.5"
  }
 },
 "nbformat": 4,
 "nbformat_minor": 4
}
